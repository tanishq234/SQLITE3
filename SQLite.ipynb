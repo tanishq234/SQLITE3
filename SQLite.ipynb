{
 "cells": [
  {
   "cell_type": "code",
   "execution_count": 1,
   "metadata": {},
   "outputs": [],
   "source": [
    "#connect to sqlitedatabase\n",
    "\n",
    "import sqlite3\n"
   ]
  },
  {
   "cell_type": "code",
   "execution_count": 2,
   "metadata": {},
   "outputs": [
    {
     "data": {
      "text/plain": [
       "<sqlite3.Connection at 0x22c102c4040>"
      ]
     },
     "execution_count": 2,
     "metadata": {},
     "output_type": "execute_result"
    }
   ],
   "source": [
    "connection=sqlite3.connect('manu.db')\n",
    "connection"
   ]
  },
  {
   "cell_type": "code",
   "execution_count": 3,
   "metadata": {},
   "outputs": [
    {
     "data": {
      "text/plain": [
       "<sqlite3.Cursor at 0x22c102b7bc0>"
      ]
     },
     "execution_count": 3,
     "metadata": {},
     "output_type": "execute_result"
    }
   ],
   "source": [
    "#create a cursor\n",
    "cursor=connection.cursor()\n",
    "#create a table\n",
    "\n",
    "cursor.execute('''\n",
    "Create Table If Not Exists employees(\n",
    "    id Integer Primary Key,\n",
    "    name Text not null,\n",
    "    age Integer,\n",
    "    Department Text\n",
    "    )             \n",
    "''')\n"
   ]
  },
  {
   "cell_type": "code",
   "execution_count": 4,
   "metadata": {},
   "outputs": [
    {
     "data": {
      "text/plain": [
       "<sqlite3.Cursor at 0x22c102b7bc0>"
      ]
     },
     "execution_count": 4,
     "metadata": {},
     "output_type": "execute_result"
    }
   ],
   "source": [
    "#commit the changes\n",
    "\n",
    "connection.commit()\n",
    "cursor.execute('''\n",
    "select * from employees              \n",
    "''')\n"
   ]
  },
  {
   "cell_type": "code",
   "execution_count": 5,
   "metadata": {},
   "outputs": [],
   "source": [
    "#insert data\n",
    "cursor.execute('''\n",
    "Insert into employees(name,age,department)\n",
    "            values('tanishq',20,'Data Scientist')              \n",
    "''')\n",
    "\n",
    "cursor.execute('''\n",
    "Insert into employees(name,age,department)\n",
    "            values('siddhant',20,'Blockchain Devloper')\n",
    "            \n",
    "''')\n",
    "\n",
    "cursor.execute('''\n",
    "Insert into employees(name,age,department)\n",
    "            values('tushar',21,'Web Devloper')\n",
    "            \n",
    "''')\n",
    "\n",
    "connection.commit()\n",
    "\n",
    "\n"
   ]
  },
  {
   "cell_type": "code",
   "execution_count": 6,
   "metadata": {},
   "outputs": [
    {
     "name": "stdout",
     "output_type": "stream",
     "text": [
      "(2, 'siddhant', 20, 'Blockchain Devloper')\n",
      "(3, 'tushar', 21, 'Web Devloper')\n",
      "(5, 'siddhant', 20, 'Blockchain Devloper')\n",
      "(6, 'tushar', 21, 'Web Devloper')\n",
      "(7, 'tanishq', 20, 'Data Scientist')\n",
      "(8, 'siddhant', 20, 'Blockchain Devloper')\n",
      "(9, 'tushar', 21, 'Web Devloper')\n"
     ]
    }
   ],
   "source": [
    "#Query an data from table itself\n",
    "\n",
    "cursor.execute('select * from employees')\n",
    "rows=cursor.fetchall()\n",
    "\n",
    "#print the quered data\n",
    "\n",
    "for row in rows:\n",
    "    print(row)\n"
   ]
  },
  {
   "cell_type": "code",
   "execution_count": 7,
   "metadata": {},
   "outputs": [],
   "source": [
    "#update the data in the table\n",
    "\n",
    "cursor.execute('''\n",
    "UPDATE employees\n",
    "set age=25\n",
    "where Name=\"tanishq\"\n",
    "''')\n",
    "\n",
    "connection.commit()\n"
   ]
  },
  {
   "cell_type": "code",
   "execution_count": 8,
   "metadata": {},
   "outputs": [
    {
     "name": "stdout",
     "output_type": "stream",
     "text": [
      "(2, 'siddhant', 20, 'Blockchain Devloper')\n",
      "(3, 'tushar', 21, 'Web Devloper')\n",
      "(5, 'siddhant', 20, 'Blockchain Devloper')\n",
      "(6, 'tushar', 21, 'Web Devloper')\n",
      "(7, 'tanishq', 25, 'Data Scientist')\n",
      "(8, 'siddhant', 20, 'Blockchain Devloper')\n",
      "(9, 'tushar', 21, 'Web Devloper')\n"
     ]
    }
   ],
   "source": [
    "#Query an data from table itself\n",
    "\n",
    "cursor.execute('select * from employees')\n",
    "rows=cursor.fetchall()\n",
    "\n",
    "#print the quered data\n",
    "\n",
    "for row in rows:\n",
    "    print(row)\n",
    "\n"
   ]
  },
  {
   "cell_type": "code",
   "execution_count": 9,
   "metadata": {},
   "outputs": [],
   "source": [
    "#delete data from table\n",
    "\n",
    "cursor.execute('''\n",
    "Delete from employees\n",
    "where name='tanishq'\n",
    "''')\n",
    "\n",
    "connection.commit()"
   ]
  },
  {
   "cell_type": "code",
   "execution_count": 10,
   "metadata": {},
   "outputs": [
    {
     "name": "stdout",
     "output_type": "stream",
     "text": [
      "(2, 'siddhant', 20, 'Blockchain Devloper')\n",
      "(3, 'tushar', 21, 'Web Devloper')\n",
      "(5, 'siddhant', 20, 'Blockchain Devloper')\n",
      "(6, 'tushar', 21, 'Web Devloper')\n",
      "(8, 'siddhant', 20, 'Blockchain Devloper')\n",
      "(9, 'tushar', 21, 'Web Devloper')\n"
     ]
    }
   ],
   "source": [
    "#Query an data from table itself\n",
    "\n",
    "cursor.execute('select * from employees')\n",
    "rows=cursor.fetchall()\n",
    "\n",
    "#print the quered data\n",
    "\n",
    "for row in rows:\n",
    "    print(row)\n",
    "\n"
   ]
  },
  {
   "cell_type": "code",
   "execution_count": 11,
   "metadata": {},
   "outputs": [
    {
     "data": {
      "text/plain": [
       "<sqlite3.Cursor at 0x22c102b72c0>"
      ]
     },
     "execution_count": 11,
     "metadata": {},
     "output_type": "execute_result"
    }
   ],
   "source": [
    "#woeking with sales data\n",
    "\n",
    "connection=sqlite3.connect('sales_data.db')\n",
    "connection\n",
    "\n",
    "#create a cursor\n",
    "cursor=connection.cursor()\n",
    "cursor.execute(\"DROP TABLE IF EXISTS sales;\")\n",
    "#create a table\n",
    "\n",
    "cursor.execute('''\n",
    "Create Table If Not Exists sales(\n",
    "    id Integer Primary Key,\n",
    "    date Text not null,\n",
    "    product Text not null,\n",
    "    sales Integer,   \n",
    "    region Text\n",
    "    )             \n",
    "''')\n"
   ]
  },
  {
   "cell_type": "code",
   "execution_count": 12,
   "metadata": {},
   "outputs": [],
   "source": [
    "#insert data into sales table\n",
    "\n",
    "sales_data=[\n",
    "    ('2023-01-01','product1',100,'north'),\n",
    "    ('2023-01-02','product2',150,'south'),\n",
    "    ('2023-01-03','product3',200,'south'),\n",
    "    ('2023-01-04','product4',250,'east'),\n",
    "    ('2023-01-05','product5',300,'west')\n",
    "\n",
    "]\n",
    "\n",
    "cursor.executemany('''\n",
    "insert into sales(date,product,sales,region)\n",
    "                 values(?,?,?,?)\n",
    "''',sales_data)\n",
    "\n",
    "connection.commit()\n"
   ]
  },
  {
   "cell_type": "code",
   "execution_count": 13,
   "metadata": {},
   "outputs": [
    {
     "name": "stdout",
     "output_type": "stream",
     "text": [
      "(1, '2023-01-01', 'product1', 100, 'north')\n",
      "(2, '2023-01-02', 'product2', 150, 'south')\n",
      "(3, '2023-01-03', 'product3', 200, 'south')\n",
      "(4, '2023-01-04', 'product4', 250, 'east')\n",
      "(5, '2023-01-05', 'product5', 300, 'west')\n"
     ]
    }
   ],
   "source": [
    "#Query an data from table itself\n",
    "\n",
    "cursor.execute('select * from sales')\n",
    "rows=cursor.fetchall()\n",
    "\n",
    "#print the quered data\n",
    "\n",
    "for row in rows:\n",
    "    print(row)\n",
    "\n"
   ]
  },
  {
   "cell_type": "code",
   "execution_count": 21,
   "metadata": {},
   "outputs": [],
   "source": [
    "#close the connection\n",
    "\n",
    "connection.close()"
   ]
  },
  {
   "cell_type": "code",
   "execution_count": null,
   "metadata": {},
   "outputs": [],
   "source": []
  }
 ],
 "metadata": {
  "kernelspec": {
   "display_name": "base",
   "language": "python",
   "name": "python3"
  },
  "language_info": {
   "codemirror_mode": {
    "name": "ipython",
    "version": 3
   },
   "file_extension": ".py",
   "mimetype": "text/x-python",
   "name": "python",
   "nbconvert_exporter": "python",
   "pygments_lexer": "ipython3",
   "version": "3.12.4"
  }
 },
 "nbformat": 4,
 "nbformat_minor": 2
}
